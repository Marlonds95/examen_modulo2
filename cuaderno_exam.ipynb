{
 "cells": [
  {
   "cell_type": "markdown",
   "id": "8f43b15e-f254-4fa5-8f67-46adad776e48",
   "metadata": {},
   "source": [
    "## Scrapeo Planetas"
   ]
  },
  {
   "cell_type": "markdown",
   "id": "d3ba890c-33ae-4481-899f-6cd77ceeef2c",
   "metadata": {},
   "source": [
    "### Dependencias"
   ]
  },
  {
   "cell_type": "code",
   "execution_count": 1,
   "id": "c673162f-7a88-4e2f-abb0-18bef8edd71d",
   "metadata": {},
   "outputs": [],
   "source": [
    "from bs4 import BeautifulSoup\n",
    "import requests"
   ]
  },
  {
   "cell_type": "markdown",
   "id": "59b5b59c-5840-4846-a09a-9fc55fded01b",
   "metadata": {},
   "source": [
    "\"Abrir sitio\""
   ]
  },
  {
   "cell_type": "code",
   "execution_count": 2,
   "id": "9794f161-8b7c-4e99-8ad6-666893fff83b",
   "metadata": {},
   "outputs": [],
   "source": [
    "url= \"https://es.wikipedia.org/wiki/Sistema_solar\"\n",
    "pagina= requests.get(url)\n",
    "soup = BeautifulSoup(pagina.text, 'html.parser')\n"
   ]
  },
  {
   "cell_type": "code",
   "execution_count": 3,
   "id": "ac87603a-75b9-40d7-aca6-28835cdeeb44",
   "metadata": {},
   "outputs": [],
   "source": [
    "tabla = soup.find('table', class_='wikitable')"
   ]
  },
  {
   "cell_type": "code",
   "execution_count": 4,
   "id": "e47c4f19-a181-44df-967a-268a5c97e0c8",
   "metadata": {},
   "outputs": [],
   "source": [
    "filas = tabla.find_all('tr')\n"
   ]
  },
  {
   "cell_type": "code",
   "execution_count": 5,
   "id": "b9c6a82c-15b7-4fe7-afc8-70f73a20f3b4",
   "metadata": {},
   "outputs": [
    {
     "name": "stdout",
     "output_type": "stream",
     "text": [
      "Planeta enano: Venus, Satélites naturales: 243\n",
      "Planeta enano: Tierra, Satélites naturales: 1,00\n",
      "Planeta enano: Marte, Satélites naturales: 1,03\n",
      "Planeta enano: Júpiter, Satélites naturales: 0,414\n",
      "Planeta enano: Saturno, Satélites naturales: 0,426\n",
      "Planeta enano: Urano, Satélites naturales: 0,718\n",
      "Planeta enano: Neptuno, Satélites naturales: 0,6745\n"
     ]
    }
   ],
   "source": [
    "for fila in filas[2:]:\n",
    "    columnas = fila.find_all('td')\n",
    "    if len(columnas) > 7:  # Verificar que haya suficientes columnas\n",
    "        planeta = columnas[0].get_text(strip=True)\n",
    "        satelites = columnas[7].get_text(strip=True)\n",
    "        print(f\"Planeta enano: {planeta}, Satélites naturales: {satelites}\")"
   ]
  },
  {
   "cell_type": "code",
   "execution_count": null,
   "id": "0afb9eb3-c6a7-49d8-bf89-b5c7c7885ade",
   "metadata": {},
   "outputs": [],
   "source": []
  }
 ],
 "metadata": {
  "kernelspec": {
   "display_name": "Python 3 (ipykernel)",
   "language": "python",
   "name": "python3"
  },
  "language_info": {
   "codemirror_mode": {
    "name": "ipython",
    "version": 3
   },
   "file_extension": ".py",
   "mimetype": "text/x-python",
   "name": "python",
   "nbconvert_exporter": "python",
   "pygments_lexer": "ipython3",
   "version": "3.12.1"
  }
 },
 "nbformat": 4,
 "nbformat_minor": 5
}
